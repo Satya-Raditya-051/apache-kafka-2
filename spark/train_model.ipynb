{
 "cells": [
  {
   "cell_type": "code",
   "execution_count": null,
   "id": "bf7dff90",
   "metadata": {},
   "outputs": [],
   "source": [
    "from pyspark.sql import SparkSession\n",
    "spark = SparkSession.builder.appName(\"TrainModel\").getOrCreate()"
   ]
  },
  {
   "cell_type": "code",
   "execution_count": null,
   "id": "00e2519b",
   "metadata": {},
   "outputs": [],
   "source": [
    "# Cell 2 - Load batches\n",
    "df1 = spark.read.json(\"batches/batch_0.json\")\n",
    "df2 = spark.read.json(\"batches/batch_1.json\")\n",
    "df3 = spark.read.json(\"batches/batch_2.json\")\n",
    "\n",
    "df1.show(5)\n"
   ]
  },
  {
   "cell_type": "code",
   "execution_count": null,
   "id": "b13535ce",
   "metadata": {},
   "outputs": [],
   "source": [
    "# Cell 3 - Assemble features\n",
    "from pyspark.ml.feature import VectorAssembler\n",
    "\n",
    "feature_columns = [col for col in df1.columns if df1.schema[col].dataType.simpleString() in ['double', 'int']]\n",
    "print(\"Features used:\", feature_columns)\n",
    "\n",
    "assembler = VectorAssembler(inputCols=feature_columns, outputCol=\"features\")\n",
    "df1_assembled = assembler.transform(df1)\n",
    "df2_assembled = assembler.transform(df2)\n",
    "df3_assembled = assembler.transform(df3)\n"
   ]
  },
  {
   "cell_type": "code",
   "execution_count": null,
   "id": "1e462d5f",
   "metadata": {},
   "outputs": [],
   "source": [
    "# Cell 4 - Train 3 KMeans models\n",
    "from pyspark.ml.clustering import KMeans\n",
    "\n",
    "model1 = KMeans(k=3, seed=1).fit(df1_assembled)\n",
    "model2 = KMeans(k=3, seed=1).fit(df2_assembled)\n",
    "combined = df1_assembled.union(df2_assembled).union(df3_assembled)\n",
    "model3 = KMeans(k=3, seed=1).fit(combined)\n"
   ]
  },
  {
   "cell_type": "code",
   "execution_count": null,
   "id": "a8b0397e",
   "metadata": {},
   "outputs": [],
   "source": [
    "# Cell 5 - Save models\n",
    "import os\n",
    "if not os.path.exists(\"model_output\"):\n",
    "    os.makedirs(\"model_output\")\n",
    "\n",
    "model1.save(\"model_output/model1\")\n",
    "model2.save(\"model_output/model2\")\n",
    "model3.save(\"model_output/model3\")\n",
    "\n",
    "print(\"✅ Models saved to model_output/\")\n"
   ]
  }
 ],
 "metadata": {
  "kernelspec": {
   "display_name": "Python 3",
   "language": "python",
   "name": "python3"
  },
  "language_info": {
   "name": "python",
   "version": "3.12.10"
  }
 },
 "nbformat": 4,
 "nbformat_minor": 5
}
